{
 "cells": [
  {
   "cell_type": "markdown",
   "metadata": {},
   "source": [
    "## Extending flooding estimates derived from Sentinel-1\n",
    "\n",
    "***About this notebook:*** This notebook applies functional models (polynomial and Gaussian) to interpolate flooding extent between the Sentinel-1 measurements. \n",
    "\n",
    "***Inputs:*** 1) Parameter to define admin level of aggregation, 2) .xlsx file with flood fraction over time\n",
    "\n",
    "***Outputs:*** .csv files with the peak flood date and flood extent. "
   ]
  },
  {
   "cell_type": "markdown",
   "metadata": {},
   "source": [
    "---\n",
    "0. Global variable(s): Define admin unit of aggregation\n",
    "---"
   ]
  },
  {
   "cell_type": "code",
   "execution_count": 1,
   "metadata": {},
   "outputs": [],
   "source": [
    "ADM_GRP = 'ADM4'"
   ]
  },
  {
   "cell_type": "markdown",
   "metadata": {},
   "source": [
    "---\n",
    "1. Imports, loading, and preprocessing\n",
    "---"
   ]
  },
  {
   "cell_type": "code",
   "execution_count": 2,
   "metadata": {},
   "outputs": [],
   "source": [
    "# Import libraries\n",
    "import os\n",
    "import numpy as np\n",
    "import matplotlib.pyplot as plt\n",
    "import pandas as pd\n",
    "from datetime import datetime\n",
    "\n",
    "# Go to root repo directory\n",
    "os.chdir('..')\n",
    "\n",
    "# Import custom functions \n",
    "from scripts.d03_analysis import FE_fit_function as ff"
   ]
  },
  {
   "cell_type": "code",
   "execution_count": 3,
   "metadata": {},
   "outputs": [],
   "source": [
    "df1 = pd.read_csv('data/processed/{}_flood_extent_sentinel.csv'.format(ADM_GRP))"
   ]
  },
  {
   "cell_type": "markdown",
   "metadata": {},
   "source": [
    "---\n",
    "2. Demonstrate functions and take a look at the sample results \n",
    "---"
   ]
  },
  {
   "cell_type": "code",
   "execution_count": 10,
   "metadata": {},
   "outputs": [
    {
     "name": "stdout",
     "output_type": "stream",
     "text": [
      "Original peak: 2020-07-15\n",
      "Fitted peak Gaussian: 2020-07-22\n",
      "Fitted peak Polynomial: 2020-07-25\n"
     ]
    },
    {
     "data": {
      "image/png": "[encoded data removed]",
      "text/plain": [
       "<Figure size 432x288 with 1 Axes>"
      ]
     },
     "metadata": {
      "needs_background": "light"
     },
     "output_type": "display_data"
    }
   ],
   "source": [
    "# 0. Select admin region from the grouped data\n",
    "sel = 6 # Index to select an admin region\n",
    "sel_col = ADM_GRP+'_PCODE'\n",
    "sel_area = df1[sel_col].unique()[sel]\n",
    "df2 = df1.loc[df1[sel_col] == sel_area].reset_index()\n",
    "\n",
    "# 1. Get the x and y\n",
    "x,y = ff.get_xy(df2)[0], ff.get_xy(df2)[1]\n",
    "\n",
    "# 2. Fit function to generate new data at daily intervals\n",
    "x_new = np.linspace(x[0], x[-1], 85) # 85 is the total number of days in overall temporal extent\n",
    "y_new_g = ff.gauss(x_new, *ff.gauss_fit(x, y))\n",
    "y_new_p = ff.poly_fit(x_new,x, y, 3)\n",
    "\n",
    "# 3. Plot the actual and fitted data\n",
    "plt.plot(x, y, 'o', label='data')\n",
    "plt.plot(x_new, y_new_g, label='Gaussian')\n",
    "plt.plot(x_new, y_new_p, label='Polynomial')\n",
    "plt.title(df1[ADM_GRP+'_EN'].unique()[sel])\n",
    "plt.legend()\n",
    "plt.xlabel('Unix Time')\n",
    "plt.ylabel('Flood fraction')\n",
    "\n",
    "# 4. Calculate the peak dates \n",
    "print('Original peak: ' + ff.get_peak(x,y))\n",
    "print('Fitted peak Gaussian: ' + ff.get_peak(x_new,y_new_g))\n",
    "print('Fitted peak Polynomial: ' + ff.get_peak(x_new,y_new_p))\n",
    "\n",
    "plt.savefig(\"Results/Fit1.png\", bbox_inches='tight', pad_inches=0.2)"
   ]
  },
  {
   "cell_type": "markdown",
   "metadata": {},
   "source": [
    "---\n",
    "3. Fit the function, calculate error, and get peak flood dates\n",
    "---"
   ]
  },
  {
   "cell_type": "code",
   "execution_count": 11,
   "metadata": {
    "scrolled": true
   },
   "outputs": [
    {
     "name": "stdout",
     "output_type": "stream",
     "text": [
      "50102099\n",
      "2\n"
     ]
    }
   ],
   "source": [
    "dates = pd.DataFrame([])\n",
    "flood_extents = pd.DataFrame([])\n",
    "\n",
    "for adm in df1[sel_col].unique():\n",
    "\n",
    "    # Fit the data \n",
    "    df2 = df1.loc[df1[sel_col] == adm].reset_index()\n",
    "    # df2 = cd.select_df(df1, adm)  # New grouped dataframe\n",
    "    x,y = ff.get_xy(df2)[0], ff.get_xy(df2)[1]  # Get the x and y \n",
    "    x_new = np.linspace(x[0], x[-1], 85)  # Generate new x data (at daily intervals)\n",
    "    \n",
    "    # TODO: Some regions don't have observations for every date, not incl when there is 0 flooding\n",
    "    # Need to break out when there aren't enough original points to fit function\n",
    "    if len(x)<10:\n",
    "        print(adm)\n",
    "        print(len(x))\n",
    "        continue\n",
    "\n",
    "    # New y values using same x data to calc the error \n",
    "    y_g_old = ff.gauss(x, *ff.gauss_fit(x, y))  # Generate Gaussian fitted y data\n",
    "    y_p_old = ff.poly_fit(x,x, y, 3)  # Generate polynomial fitted y data - degree 3\n",
    "    \n",
    "    # New y values using daily x data to get better peak estimate \n",
    "    y_g_new = ff.gauss(x_new, *ff.gauss_fit(x, y))  # Generate Gaussian fitted y data\n",
    "    y_p_new = ff.poly_fit(x_new, x, y, 3)  # Generate polynomial fitted y data - degree 3\n",
    "    \n",
    "    # Calc the rmse to compare poly vs gauss\n",
    "    rmse_g = ff.rmse(y_g_old, y)\n",
    "    rmse_p = ff.rmse(y_p_old, y)\n",
    "    \n",
    "    # Get the peak dates \n",
    "    date_actual = datetime.strptime(ff.get_peak(x,y), \"%Y-%m-%d\")\n",
    "    date_g = datetime.strptime(ff.get_peak(x_new, y_g_new), \"%Y-%m-%d\")\n",
    "    date_p = datetime.strptime(ff.get_peak(x_new, y_p_new), \"%Y-%m-%d\")\n",
    "    \n",
    "    # Calculate the difference between dates\n",
    "    act_g = (date_actual - date_g).days\n",
    "    act_p = (date_actual - date_p).days\n",
    "    \n",
    "    # Create dict with the results - flood extent\n",
    "    flood_extent = pd.DataFrame(\n",
    "        {'PCODE': adm, \n",
    "         'DATE': x_new,\n",
    "         'FLOOD_EXTENT_G': y_g_new,\n",
    "         'FLOOD_EXTENT_P': y_p_new})\n",
    "    flood_extents = flood_extents.append(flood_extent, ignore_index=True)\n",
    "    \n",
    "    # Create dict with the results - peak dates \n",
    "    result = {'PCODE': adm,\n",
    "             'RMSE_G': rmse_g,\n",
    "             'RMSE_P': rmse_p, \n",
    "              'PEAK_ACT': date_actual,\n",
    "              'PEAK_G': date_g,\n",
    "              'PEAK_P': date_p,\n",
    "              'DIFF_ACT_G': act_g,\n",
    "              'DIFF_ACT_P': act_p}\n",
    "    dates = dates.append(result, ignore_index=True)\n",
    "    \n",
    "flood_extents['DATE'] = flood_extents['DATE'].apply(lambda x: datetime.utcfromtimestamp(x).strftime('%d/%m/%Y'))"
   ]
  },
  {
   "cell_type": "code",
   "execution_count": 41,
   "metadata": {},
   "outputs": [],
   "source": [
    "# Save results to csv\n",
    "dates.to_csv('data/processed/{}_flood_peak.csv'.format(ADM_GRP), index=False)\n",
    "flood_extents.to_csv('data/processed/{}_flood_extent_interpolated.csv'.format(ADM_GRP), index=False)"
   ]
  },
  {
   "cell_type": "markdown",
   "metadata": {},
   "source": [
    "--- \n",
    "4. Compare the RMSE values for polynomial vs Gaussian fitting\n",
    "---"
   ]
  },
  {
   "cell_type": "code",
   "execution_count": 15,
   "metadata": {
    "scrolled": true
   },
   "outputs": [
    {
     "data": {
      "image/png": "[encoded data removed]",
      "text/plain": [
       "<Figure size 432x288 with 1 Axes>"
      ]
     },
     "metadata": {
      "needs_background": "light"
     },
     "output_type": "display_data"
    }
   ],
   "source": [
    "plt.hist(dates['RMSE_P'], label='ploynomial', alpha=0.5)\n",
    "plt.hist(dates['RMSE_G'], label='Gaussian', alpha=0.5)\n",
    "plt.axvline(dates['RMSE_P'].mean(), label='Polynomial mean', color='#172082')\n",
    "plt.axvline(dates['RMSE_G'].mean(), label='Gaussian mean', color='#db8c16')\n",
    "plt.legend()\n",
    "plt.xlabel('RMSE')\n",
    "plt.ylabel('Frequency')\n",
    "plt.title('Comparison of RMSE')\n",
    "#plt.show()\n",
    "plt.savefig(\"Results/RMSE.png\", bbox_inches='tight', pad_inches=0.2)"
   ]
  },
  {
   "cell_type": "markdown",
   "metadata": {},
   "source": [
    "---\n",
    "5. Compare difference in peak date estimation\n",
    "---"
   ]
  },
  {
   "cell_type": "code",
   "execution_count": 14,
   "metadata": {
    "scrolled": true
   },
   "outputs": [
    {
     "data": {
      "image/png": "[encoded data removed]",
      "text/plain": [
       "<Figure size 432x288 with 1 Axes>"
      ]
     },
     "metadata": {
      "needs_background": "light"
     },
     "output_type": "display_data"
    }
   ],
   "source": [
    "plt.hist(dates['DIFF_ACT_P'], label='ploynomial', alpha=0.5)\n",
    "plt.hist(dates['DIFF_ACT_G'], label='Gaussian', alpha=0.5)\n",
    "plt.axvline(dates['DIFF_ACT_P'].mean(), label='Polynomial mean', color='#172082')\n",
    "plt.axvline(dates['DIFF_ACT_G'].mean(), label='Gaussian mean', color='#db8c16')\n",
    "plt.legend()\n",
    "plt.title('Comparison of Peak Date Estimation')\n",
    "#plt.show()\n",
    "plt.savefig(\"Results/PEAK.png\", bbox_inches='tight', pad_inches=0.2)"
   ]
  }
 ],
 "metadata": {
  "kernelspec": {
   "display_name": "bang_floods",
   "language": "python",
   "name": "bang_floods"
  },
  "language_info": {
   "codemirror_mode": {
    "name": "ipython",
    "version": 3
   },
   "file_extension": ".py",
   "mimetype": "text/x-python",
   "name": "python",
   "nbconvert_exporter": "python",
   "pygments_lexer": "ipython3",
   "version": "3.8.5"
  }
 },
 "nbformat": 4,
 "nbformat_minor": 4
}
