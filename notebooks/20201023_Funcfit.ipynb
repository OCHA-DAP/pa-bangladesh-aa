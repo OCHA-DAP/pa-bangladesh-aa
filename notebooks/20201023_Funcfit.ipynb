{
 "cells": [
  {
   "cell_type": "markdown",
   "metadata": {},
   "source": [
    "### Exploratory analysis to better understand the peak flooding date."
   ]
  },
  {
   "cell_type": "markdown",
   "metadata": {},
   "source": [
    "---\n",
    "1. Imports, loading, and preprocessing\n",
    "---"
   ]
  },
  {
   "cell_type": "code",
   "execution_count": 1,
   "metadata": {},
   "outputs": [],
   "source": [
    "# Import libraries\n",
    "import os\n",
    "import numpy as np\n",
    "import matplotlib.pyplot as plt\n",
    "import pandas as pd\n",
    "from datetime import datetime\n",
    "\n",
    "# Go to root repo directory\n",
    "os.chdir('..')\n",
    "\n",
    "# Import custom functions \n",
    "from scripts.d02_processing import FE_clean_data as cd\n",
    "from scripts.d03_analysis import FE_fit_function as ff\n",
    "from scripts.d01_data import FE_load_data as ld"
   ]
  },
  {
   "cell_type": "code",
   "execution_count": 2,
   "metadata": {},
   "outputs": [],
   "source": [
    "FNAME = 'Sentinel-1-BGD-Flooding-updated.xlsx' # File name of the flood extent data\n",
    "df0 = ld.read_data(FNAME)"
   ]
  },
  {
   "cell_type": "code",
   "execution_count": 3,
   "metadata": {},
   "outputs": [],
   "source": [
    "ADM_GRP = 'ADM3_EN' # Admin level to group by\n",
    "df1 = cd.group_df(df0, ADM_GRP)"
   ]
  },
  {
   "cell_type": "markdown",
   "metadata": {},
   "source": [
    "---\n",
    "2. Demonstrate functions and take a look at the sample results \n",
    "---"
   ]
  },
  {
   "cell_type": "code",
   "execution_count": 4,
   "metadata": {},
   "outputs": [
    {
     "name": "stdout",
     "output_type": "stream",
     "text": [
      "Original peak: 2020-07-21\n",
      "Fitted peak Gaussian: 2020-07-30\n",
      "Fitted peak Polynomial: 2020-08-04\n"
     ]
    },
    {
     "data": {
      "image/png": "[encoded data removed]",
      "text/plain": [
       "<Figure size 432x288 with 1 Axes>"
      ]
     },
     "metadata": {
      "needs_background": "light"
     },
     "output_type": "display_data"
    }
   ],
   "source": [
    "# 0. Select admin region from the grouped data\n",
    "df2 = cd.select_df(df1, df1[ADM_GRP].unique()[0])\n",
    "\n",
    "# 1. Get the x and y\n",
    "x,y = ff.get_xy(df2)[0], ff.get_xy(df2)[1]\n",
    "\n",
    "# 2. Fit function to generate new data at daily intervals\n",
    "x_new = np.linspace(x[0], x[-1], 85)\n",
    "y_new_g = ff.gauss(x_new, *ff.gauss_fit(x, y))\n",
    "y_new_p = ff.poly_fit(x_new,x, y, 3)\n",
    "\n",
    "# 3. Plot the actual and fitted data\n",
    "plt.plot(x, y, 'o', label='data')\n",
    "plt.plot(x_new, y_new_g, label='Gaussian')\n",
    "plt.plot(x_new, y_new_p, label='Polynomial')\n",
    "plt.title(df1[ADM_GRP].unique()[0])\n",
    "plt.legend()\n",
    "plt.xlabel('Time')\n",
    "plt.ylabel('Flood fraction')\n",
    "\n",
    "# 4. Calculate the peak dates \n",
    "print('Original peak: ' + ff.get_peak(x,y))\n",
    "print('Fitted peak Gaussian: ' + ff.get_peak(x_new,y_new_g))\n",
    "print('Fitted peak Polynomial: ' + ff.get_peak(x_new,y_new_p))"
   ]
  },
  {
   "cell_type": "markdown",
   "metadata": {},
   "source": [
    "---\n",
    "3. Fit the function, calculate error, and get peak flood dates\n",
    "---"
   ]
  },
  {
   "cell_type": "code",
   "execution_count": 5,
   "metadata": {
    "scrolled": true
   },
   "outputs": [],
   "source": [
    "results = pd.DataFrame([])\n",
    "\n",
    "for adm in df1[ADM_GRP].unique():\n",
    "\n",
    "    # Fit the data \n",
    "    df2 = cd.select_df(df1, adm)  # New grouped dataframe\n",
    "    x,y = ff.get_xy(df2)[0], ff.get_xy(df2)[1]  # Get the x and y \n",
    "    x_new = np.linspace(x[0], x[-1], 85)  # Generate new x data (at daily intervals)\n",
    "    \n",
    "    #if len(x)<17:\n",
    "    #    print(adm)\n",
    "    #    print(len(x))\n",
    "    #    continue\n",
    "\n",
    "    # New y values using same x data to calc the error \n",
    "    y_g_old = ff.gauss(x, *ff.gauss_fit(x, y))  # Generate Gaussian fitted y data\n",
    "    y_p_old = ff.poly_fit(x,x, y, 3)  # Generate polynomial fitted y data - degree 3\n",
    "    \n",
    "    # New y values using daily x data to get better peak estimate \n",
    "    y_g_new = ff.gauss(x_new, *ff.gauss_fit(x, y))  # Generate Gaussian fitted y data\n",
    "    y_p_new = ff.poly_fit(x_new, x, y, 3)  # Generate polynomial fitted y data - degree 3\n",
    "    \n",
    "    # Calc the rmse to compare poly vs gauss\n",
    "    rmse_g = ff.rmse(y_g_old, y)\n",
    "    rmse_p = ff.rmse(y_p_old, y)\n",
    "    \n",
    "    # Get the peak dates \n",
    "    date_actual = datetime.strptime(ff.get_peak(x,y), \"%Y-%m-%d\")\n",
    "    date_g = datetime.strptime(ff.get_peak(x_new, y_g_new), \"%Y-%m-%d\")\n",
    "    date_p = datetime.strptime(ff.get_peak(x_new, y_p_new), \"%Y-%m-%d\")\n",
    "    \n",
    "    # Calculate the difference between dates\n",
    "    act_g = (date_actual - date_g).days\n",
    "    act_p = (date_actual - date_p).days\n",
    "    \n",
    "    # Create dict with the results\n",
    "    result = {'ADM': adm,\n",
    "             'RMSE_G': rmse_g,\n",
    "             'RMSE_P': rmse_p, \n",
    "              'PEAK_ACT': date_actual,\n",
    "              'PEAK_G': date_g,\n",
    "              'PEAK_P': date_p,\n",
    "              'DIFF_ACT_G': act_g,\n",
    "              'DIFF_ACT_P': act_p}\n",
    "    results = results.append(result, ignore_index=True)"
   ]
  },
  {
   "cell_type": "code",
   "execution_count": 35,
   "metadata": {},
   "outputs": [],
   "source": [
    "# Save results to csv\n",
    "results.to_csv('results/flood_peak_estimation_{}.csv'.format(ADM_GRP))"
   ]
  },
  {
   "cell_type": "code",
   "execution_count": 6,
   "metadata": {},
   "outputs": [
    {
     "data": {
      "text/html": [
       "<div>\n",
       "<style scoped>\n",
       "    .dataframe tbody tr th:only-of-type {\n",
       "        vertical-align: middle;\n",
       "    }\n",
       "\n",
       "    .dataframe tbody tr th {\n",
       "        vertical-align: top;\n",
       "    }\n",
       "\n",
       "    .dataframe thead th {\n",
       "        text-align: right;\n",
       "    }\n",
       "</style>\n",
       "<table border=\"1\" class=\"dataframe\">\n",
       "  <thead>\n",
       "    <tr style=\"text-align: right;\">\n",
       "      <th></th>\n",
       "      <th>ADM</th>\n",
       "      <th>DIFF_ACT_G</th>\n",
       "      <th>DIFF_ACT_P</th>\n",
       "      <th>PEAK_ACT</th>\n",
       "      <th>PEAK_G</th>\n",
       "      <th>PEAK_P</th>\n",
       "      <th>RMSE_G</th>\n",
       "      <th>RMSE_P</th>\n",
       "    </tr>\n",
       "  </thead>\n",
       "  <tbody>\n",
       "    <tr>\n",
       "      <th>0</th>\n",
       "      <td>Adamdighi</td>\n",
       "      <td>-9.0</td>\n",
       "      <td>-14.0</td>\n",
       "      <td>2020-07-21</td>\n",
       "      <td>2020-07-30</td>\n",
       "      <td>2020-08-04</td>\n",
       "      <td>0.043127</td>\n",
       "      <td>0.057070</td>\n",
       "    </tr>\n",
       "    <tr>\n",
       "      <th>1</th>\n",
       "      <td>Bakshiganj</td>\n",
       "      <td>2.0</td>\n",
       "      <td>-2.0</td>\n",
       "      <td>2020-07-27</td>\n",
       "      <td>2020-07-25</td>\n",
       "      <td>2020-07-29</td>\n",
       "      <td>0.037880</td>\n",
       "      <td>0.060957</td>\n",
       "    </tr>\n",
       "    <tr>\n",
       "      <th>2</th>\n",
       "      <td>Belkuchi</td>\n",
       "      <td>-6.0</td>\n",
       "      <td>-8.0</td>\n",
       "      <td>2020-07-21</td>\n",
       "      <td>2020-07-27</td>\n",
       "      <td>2020-07-29</td>\n",
       "      <td>0.041485</td>\n",
       "      <td>0.046674</td>\n",
       "    </tr>\n",
       "    <tr>\n",
       "      <th>3</th>\n",
       "      <td>Bhurungamari</td>\n",
       "      <td>1.0</td>\n",
       "      <td>-2.0</td>\n",
       "      <td>2020-07-21</td>\n",
       "      <td>2020-07-20</td>\n",
       "      <td>2020-07-23</td>\n",
       "      <td>0.023470</td>\n",
       "      <td>0.037407</td>\n",
       "    </tr>\n",
       "    <tr>\n",
       "      <th>4</th>\n",
       "      <td>Bogra Sadar</td>\n",
       "      <td>-4.0</td>\n",
       "      <td>-8.0</td>\n",
       "      <td>2020-07-25</td>\n",
       "      <td>2020-07-29</td>\n",
       "      <td>2020-08-02</td>\n",
       "      <td>0.019377</td>\n",
       "      <td>0.030005</td>\n",
       "    </tr>\n",
       "  </tbody>\n",
       "</table>\n",
       "</div>"
      ],
      "text/plain": [
       "            ADM  DIFF_ACT_G  DIFF_ACT_P   PEAK_ACT     PEAK_G     PEAK_P  \\\n",
       "0     Adamdighi        -9.0       -14.0 2020-07-21 2020-07-30 2020-08-04   \n",
       "1    Bakshiganj         2.0        -2.0 2020-07-27 2020-07-25 2020-07-29   \n",
       "2      Belkuchi        -6.0        -8.0 2020-07-21 2020-07-27 2020-07-29   \n",
       "3  Bhurungamari         1.0        -2.0 2020-07-21 2020-07-20 2020-07-23   \n",
       "4   Bogra Sadar        -4.0        -8.0 2020-07-25 2020-07-29 2020-08-02   \n",
       "\n",
       "     RMSE_G    RMSE_P  \n",
       "0  0.043127  0.057070  \n",
       "1  0.037880  0.060957  \n",
       "2  0.041485  0.046674  \n",
       "3  0.023470  0.037407  \n",
       "4  0.019377  0.030005  "
      ]
     },
     "execution_count": 6,
     "metadata": {},
     "output_type": "execute_result"
    }
   ],
   "source": [
    "results.head()"
   ]
  },
  {
   "cell_type": "markdown",
   "metadata": {},
   "source": [
    "--- \n",
    "4. Compare the RMSE values for polynomial vs Gaussian fitting\n",
    "---"
   ]
  },
  {
   "cell_type": "code",
   "execution_count": 7,
   "metadata": {
    "scrolled": true
   },
   "outputs": [
    {
     "data": {
      "image/png": "[encoded data removed]",
      "text/plain": [
       "<Figure size 432x288 with 1 Axes>"
      ]
     },
     "metadata": {
      "needs_background": "light"
     },
     "output_type": "display_data"
    }
   ],
   "source": [
    "plt.hist(results['RMSE_P'], label='ploynomial', alpha=0.5)\n",
    "plt.hist(results['RMSE_G'], label='Gaussian', alpha=0.5)\n",
    "plt.axvline(results['RMSE_P'].mean(), label='Polynomial mean', color='#172082')\n",
    "plt.axvline(results['RMSE_G'].mean(), label='Gaussian mean', color='#db8c16')\n",
    "plt.legend()\n",
    "plt.title('Comparison of RMSE')\n",
    "plt.show()"
   ]
  },
  {
   "cell_type": "markdown",
   "metadata": {},
   "source": [
    "---\n",
    "5. Compare difference in peak date estimation\n",
    "---"
   ]
  },
  {
   "cell_type": "code",
   "execution_count": 8,
   "metadata": {},
   "outputs": [
    {
     "data": {
      "image/png": "[encoded data removed]",
      "text/plain": [
       "<Figure size 432x288 with 1 Axes>"
      ]
     },
     "metadata": {
      "needs_background": "light"
     },
     "output_type": "display_data"
    }
   ],
   "source": [
    "plt.hist(results['DIFF_ACT_P'], label='ploynomial', alpha=0.5)\n",
    "plt.hist(results['DIFF_ACT_G'], label='Gaussian', alpha=0.5)\n",
    "plt.axvline(results['DIFF_ACT_P'].mean(), label='Polynomial mean', color='#172082')\n",
    "plt.axvline(results['DIFF_ACT_G'].mean(), label='Gaussian mean', color='#db8c16')\n",
    "plt.legend()\n",
    "plt.title('Comparison of Peak Date Estimation')\n",
    "plt.show()"
   ]
  }
 ],
 "metadata": {
  "kernelspec": {
   "display_name": "bang_floods",
   "language": "python",
   "name": "bang_floods"
  },
  "language_info": {
   "codemirror_mode": {
    "name": "ipython",
    "version": 3
   },
   "file_extension": ".py",
   "mimetype": "text/x-python",
   "name": "python",
   "nbconvert_exporter": "python",
   "pygments_lexer": "ipython3",
   "version": "3.8.5"
  }
 },
 "nbformat": 4,
 "nbformat_minor": 4
}
